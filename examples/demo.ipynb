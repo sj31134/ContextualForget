{
  "cells": [
    {
      "cell_type": "markdown",
      "metadata": {},
      "source": [
        "# ContextualForget Demo\n",
        "\n",
        "이 노트북은 ContextualForget 시스템의 주요 기능들을 시연합니다.\n",
        "\n",
        "## 목차\n",
        "1. [환경 설정](#환경-설정)\n",
        "2. [데이터 로드](#데이터-로드)\n",
        "3. [기본 쿼리](#기본-쿼리)\n",
        "4. [고급 쿼리](#고급-쿼리)\n",
        "5. [망각 정책](#망각-정책)\n",
        "6. [시각화](#시각화)\n",
        "7. [성능 최적화](#성능-최적화)\n"
      ]
    },
    {
      "cell_type": "markdown",
      "metadata": {},
      "source": [
        "## 환경 설정\n"
      ]
    },
    {
      "cell_type": "code",
      "execution_count": null,
      "metadata": {},
      "outputs": [],
      "source": [
        "import sys\n",
        "import os\n",
        "sys.path.append('..')\n",
        "\n",
        "import networkx as nx\n",
        "import matplotlib.pyplot as plt\n",
        "import json\n",
        "from datetime import datetime, timezone, timedelta\n",
        "\n",
        "# ContextualForget 모듈들\n",
        "from src.contextualforget.utils import read_jsonl, write_jsonl\n",
        "from src.contextualforget.advanced_query import AdvancedQueryEngine, QueryBuilder\n",
        "from src.contextualforget.advanced_forgetting import (\n",
        "    TTLPolicy, WeightedDecayPolicy, CompositeForgettingPolicy, ForgettingManager\n",
        ")\n",
        "from src.contextualforget.visualization import GraphVisualizer, TimelineVisualizer\n",
        "from src.contextualforget.performance import GraphOptimizer, PerformanceProfiler\n",
        "\n",
        "print(\"✅ 모든 모듈이 성공적으로 로드되었습니다!\")\n"
      ]
    }
  ],
  "metadata": {
    "language_info": {
      "name": "python"
    }
  },
  "nbformat": 4,
  "nbformat_minor": 2
}
